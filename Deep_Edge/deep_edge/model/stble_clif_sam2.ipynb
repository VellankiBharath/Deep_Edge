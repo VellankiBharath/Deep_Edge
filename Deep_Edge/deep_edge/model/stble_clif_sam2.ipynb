{
 "cells": [
  {
   "cell_type": "code",
   "execution_count": 18,
   "metadata": {},
   "outputs": [],
   "source": [
    "import torch\n",
    "from diffusers import StableDiffusionPipeline\n",
    "import clip\n",
    "from PIL import Image\n",
    "import numpy as np\n",
    "import cv2  # OpenCV for image processing\n",
    "import sam  # Assuming you have installed SAM2 correctly\n",
    "import matplotlib.pyplot as plt\n",
    "import base64\n"
   ]
  },
  {
   "cell_type": "code",
   "execution_count": 19,
   "metadata": {},
   "outputs": [],
   "source": [
    "def image_to_base64(image):\n",
    "    from io import BytesIO\n",
    "    buffered = BytesIO()\n",
    "    image.save(buffered, format=\"PNG\")\n",
    "    return base64.b64encode(buffered.getvalue()).decode(\"utf-8\")"
   ]
  },
  {
   "cell_type": "code",
   "execution_count": 20,
   "metadata": {},
   "outputs": [
    {
     "data": {
      "application/vnd.jupyter.widget-view+json": {
       "model_id": "f3ea4cc4e0c44fd4ab7e7f89893c10e4",
       "version_major": 2,
       "version_minor": 0
      },
      "text/plain": [
       "Loading pipeline components...:   0%|          | 0/7 [00:00<?, ?it/s]"
      ]
     },
     "metadata": {},
     "output_type": "display_data"
    },
    {
     "data": {
      "application/vnd.jupyter.widget-view+json": {
       "model_id": "0820f17bc32a4dce88afbf7946365023",
       "version_major": 2,
       "version_minor": 0
      },
      "text/plain": [
       "  0%|          | 0/50 [00:00<?, ?it/s]"
      ]
     },
     "metadata": {},
     "output_type": "display_data"
    }
   ],
   "source": [
    "# Set up Stable Diffusion\n",
    "pipe = StableDiffusionPipeline.from_pretrained(\"CompVis/stable-diffusion-v1-4\")\n",
    "pipe = pipe.to(\"cuda\" if torch.cuda.is_available() else \"cpu\")\n",
    "\n",
    "# Generate an image based on the prompt\n",
    "prompt = \"a mom holding a baby\"\n",
    "image = pipe(prompt).images[0]\n",
    "image.save(\"generated_image.png\")  # Save the image for analysis\n",
    "image.show()  # Show the generated image"
   ]
  },
  {
   "cell_type": "code",
   "execution_count": 21,
   "metadata": {},
   "outputs": [
    {
     "name": "stdout",
     "output_type": "stream",
     "text": [
      "Prompt: 'landscape', Confidence Score: 0.1394\n",
      "Prompt: 'mountains', Confidence Score: 0.1671\n",
      "Prompt: 'sunset', Confidence Score: 0.0038\n",
      "Prompt: 'river', Confidence Score: 0.6696\n",
      "Prompt: 'sky', Confidence Score: 0.0201\n"
     ]
    }
   ],
   "source": [
    "# Set up CLIP\n",
    "model, preprocess = clip.load(\"ViT-B/32\", device=\"cuda\" if torch.cuda.is_available() else \"cpu\")\n",
    "\n",
    "# Preprocess the generated image for CLIP\n",
    "image_clip = preprocess(image).unsqueeze(0).to(\"cuda\" if torch.cuda.is_available() else \"cpu\")\n",
    "\n",
    "# Define possible text descriptions for analysis\n",
    "text_prompts = [\"landscape\", \"mountains\", \"sunset\", \"river\", \"sky\"]\n",
    "text_inputs = clip.tokenize(text_prompts).to(\"cuda\" if torch.cuda.is_available() else \"cpu\")\n",
    "\n",
    "# Analyze the image using CLIP\n",
    "with torch.no_grad():\n",
    "    image_features = model.encode_image(image_clip)\n",
    "    text_features = model.encode_text(text_inputs)\n",
    "\n",
    "    # Calculate similarity scores\n",
    "    logits_per_image, logits_per_text = image_features @ text_features.T, text_features @ image_features.T\n",
    "    probs = logits_per_image.softmax(dim=-1).cpu().numpy()\n",
    "# Collect CLIP results into a dictionary\n",
    "clip_results = {text: float(probs[0][i]) for i, text in enumerate(text_prompts)}\n",
    "# Print the results from CLIP\n",
    "for i, text in enumerate(text_prompts):\n",
    "    print(f\"Prompt: '{text}', Confidence Score: {probs[0][i]:.4f}\")"
   ]
  },
  {
   "cell_type": "code",
   "execution_count": 22,
   "metadata": {},
   "outputs": [
    {
     "name": "stdout",
     "output_type": "stream",
     "text": [
      "Using device: cpu\n"
     ]
    },
    {
     "name": "stderr",
     "output_type": "stream",
     "text": [
      "c:\\anaconda\\.conda\\Lib\\site-packages\\segment_anything\\build_sam.py:105: FutureWarning: You are using `torch.load` with `weights_only=False` (the current default value), which uses the default pickle module implicitly. It is possible to construct malicious pickle data which will execute arbitrary code during unpickling (See https://github.com/pytorch/pytorch/blob/main/SECURITY.md#untrusted-models for more details). In a future release, the default value for `weights_only` will be flipped to `True`. This limits the functions that could be executed during unpickling. Arbitrary objects will no longer be allowed to be loaded via this mode unless they are explicitly allowlisted by the user via `torch.serialization.add_safe_globals`. We recommend you start setting `weights_only=True` for any use case where you don't have full control of the loaded file. Please open an issue on GitHub for any issues related to this experimental feature.\n",
      "  state_dict = torch.load(f)\n"
     ]
    },
    {
     "data": {
      "image/png": "[encoded data removed]",
      "text/plain": [
       "<Figure size 640x480 with 3 Axes>"
      ]
     },
     "metadata": {},
     "output_type": "display_data"
    }
   ],
   "source": [
    "import torch\n",
    "import cv2\n",
    "import numpy as np\n",
    "import matplotlib.pyplot as plt\n",
    "from segment_anything import build_sam, SamPredictor\n",
    "from segment_anything import SamPredictor, sam_model_registry\n",
    "sam_checkpoint = \"checkpoints/sam_vit_h_4b8939.pth\"  # Path to your checkpoint file\n",
    "# Check if you have a GPU and set the device accordingly\n",
    "device = \"cuda\" if torch.cuda.is_available() else \"cpu\"\n",
    "print(f\"Using device: {device}\")\n",
    "\n",
    "# Load the SAM model with the appropriate checkpoint\n",
    "sam_checkpoint = \"sam_vit_h_4b8939.pth\"  # Path to SAM model checkpoint\n",
    "sam_model = sam_model_registry[\"vit_h\"](checkpoint=sam_checkpoint).to(device)\n",
    "\n",
    "# Initialize the SAM predictor\n",
    "predictor = SamPredictor(sam_model)\n",
    "\n",
    "# Load and preprocess the image\n",
    "image_path = \"generated_image.png\"  # Path to the image you want to segment\n",
    "sam_image = cv2.imread(image_path)\n",
    "sam_image = cv2.cvtColor(sam_image, cv2.COLOR_BGR2RGB)\n",
    "\n",
    "# Set the image in the predictor\n",
    "predictor.set_image(sam_image)\n",
    "\n",
    "# You can now interact with the SAM model to get masks (e.g., using points)\n",
    "input_point = np.array([[500, 375]])  # Example point for instance segmentation\n",
    "input_label = np.array([1])\n",
    "\n",
    "masks, scores, logits = predictor.predict(\n",
    "    point_coords=input_point,\n",
    "    point_labels=input_label,\n",
    "    multimask_output=True  # Enable multi-mask output for different options\n",
    ")\n",
    "\n",
    "# Display the mask\n",
    "for idx, mask in enumerate(masks):\n",
    "    plt.subplot(1, len(masks), idx + 1)\n",
    "    plt.imshow(mask, cmap='gray')\n",
    "    plt.axis('off')\n",
    "\n",
    "plt.show()\n"
   ]
  },
  {
   "cell_type": "code",
   "execution_count": 32,
   "metadata": {},
   "outputs": [],
   "source": [
    "# Convert masks and scores to JSON-compatible format (lists)\n",
    "masks_list = [mask.tolist() for mask in masks]\n",
    "scores_list = scores.tolist()"
   ]
  },
  {
   "cell_type": "code",
   "execution_count": 31,
   "metadata": {},
   "outputs": [],
   "source": [
    "data_to_save = {\n",
    "    \"generated_image\": image_to_base64(image),  # Convert image to base64 string\n",
    "    \"clip_results\": clip_results,  # CLIP analysis results (confidence scores)\n",
    "    \"sam_masks\": masks_list,  # SAM2 segmentation masks as lists\n",
    "    \"sam_scores\": scores_list  # SAM2 segmentation scores as lists\n",
    "}\n"
   ]
  },
  {
   "cell_type": "code",
   "execution_count": 24,
   "metadata": {},
   "outputs": [],
   "source": [
    "import pickle\n",
    "with open('stble_clif_sam2.pickle', 'wb') as f:\n",
    "    pickle.dump(data_to_save,f)"
   ]
  },
  {
   "cell_type": "code",
   "execution_count": 33,
   "metadata": {},
   "outputs": [],
   "source": [
    "import json\n",
    "# Save everything to a JSON file\n",
    "with open('stble_clif_sam2.json', 'w') as f:\n",
    "    json.dump(data_to_save, f, indent=4)"
   ]
  }
 ],
 "metadata": {
  "kernelspec": {
   "display_name": "Python 3",
   "language": "python",
   "name": "python3"
  },
  "language_info": {
   "codemirror_mode": {
    "name": "ipython",
    "version": 3
   },
   "file_extension": ".py",
   "mimetype": "text/x-python",
   "name": "python",
   "nbconvert_exporter": "python",
   "pygments_lexer": "ipython3",
   "version": "3.11.9"
  }
 },
 "nbformat": 4,
 "nbformat_minor": 2
}
